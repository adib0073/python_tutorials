{
  "nbformat": 4,
  "nbformat_minor": 0,
  "metadata": {
    "colab": {
      "provenance": [],
      "authorship_tag": "ABX9TyMfzw3fuPTA1cVXQ2jwQQkE",
      "include_colab_link": true
    },
    "kernelspec": {
      "name": "python3",
      "display_name": "Python 3"
    },
    "language_info": {
      "name": "python"
    }
  },
  "cells": [
    {
      "cell_type": "markdown",
      "metadata": {
        "id": "view-in-github",
        "colab_type": "text"
      },
      "source": [
        "<a href=\"https://colab.research.google.com/github/adib0073/python_tutorials/blob/main/Python_Code_Practice_Session.ipynb\" target=\"_parent\"><img src=\"https://colab.research.google.com/assets/colab-badge.svg\" alt=\"Open In Colab\"/></a>"
      ]
    },
    {
      "cell_type": "markdown",
      "source": [
        "## Python Session: Instructor-Led Coding Practice Session\n",
        "\n",
        "Instructions:\n",
        "\n",
        "1. Open a new repository on GitHub where you can share your own code\n",
        "2. Use google colab to work on the exercise problems\n",
        "3. Upload your notebook to GitHub once you have completed the assignments"
      ],
      "metadata": {
        "id": "ulRcs3NHMlhs"
      }
    },
    {
      "cell_type": "markdown",
      "source": [
        "**List of exericse problems**:\n",
        "\n",
        "1. Find fibonacci series upto `n` terms using lambda functions: example of fibonacci series: 0, 1, 1, 2, 3, 5, 8, 13\n",
        "\n",
        "2. Python program to build flashcard of fruit colors using class.\n",
        "\n",
        "- Approach:\n",
        "-- Create a class named flashcard.\n",
        "-- Initialize dictionary fruits using __init__() method.\n",
        "-- Now randomly choose a pair from fruits using choice() method and store the key in variable fruit and value in variable color.\n",
        "-- Now prompt the user to answer the color of the randomly chosen fruit.\n",
        "-- If correct print correct else print wrong.\n",
        "\n",
        "3. Python program to find the sum of all items in a dictionary\n",
        "\n",
        "```\n",
        "Input : {‘a’: 100, ‘b’:200, ‘c’:300}\n",
        "Output : 600\n",
        "```\n",
        "\n",
        "4. Handling Missing Keys in Python Dictionaries\n",
        "\n",
        "```\n",
        "# For example\n",
        "\n",
        "d = { 'a' : 1 , 'b' : 2 }\n",
        "\n",
        "# trying to output value of absent key\n",
        "print (\"The value associated with 'c' is : \")\n",
        "print (d['c'])\n",
        "\n",
        "# The output should say: No items found for the key 'c'\n",
        "# Instead of KeyError: 'c'\n",
        "\n",
        "```\n",
        "\n",
        "5. Python program to check whether a given string is Heterogram or not.\n",
        "*A heterogram is a word, phrase, or sentence in which no letter of the alphabet occurs more than once*.\n",
        "\n",
        "```\n",
        "Input1: S = \"the big dwarf only jumps\"\n",
        "Output1: Yes\n",
        "Explanation: Each alphabet in the string S is occurred only once.\n",
        "\n",
        "Input2: S = \"geeksforgeeks\"\n",
        "Output2: No\n",
        "Explanation: Since alphabet 'g', 'e', 'k', 's' occurred more than once.\n",
        "```\n",
        "\n",
        "6.  Python program to to convert a sentence to it's `Bag of Words` representation.\n",
        "\n",
        "```\n",
        "# example:\n",
        "sentences = [\n",
        "    \"the quick brown fox jumps over the brown dog\",\n",
        "    \"the dog barks loudly\",\n",
        "    \"the cat sleeps peacefully\"\n",
        "\n",
        "]\n",
        "\n",
        "# Output\n",
        "Sentence 1: [2, 1, 2, 1, 1, 1, 1, 0, 0, 0, 0, 0]\n",
        "Sentence 2: [1, 0, 0, 0, 0, 0, 1, 1, 1, 0, 0, 0]\n",
        "Sentence 3: [1, 0, 0, 0, 0, 0, 0, 0, 0, 1, 1, 1]\n",
        "\n",
        "# steps: sentence -> list of tokens -> count of occurence of each token -> BoW vector where size of the vector = size of vocabulary\n",
        "\n",
        "# Sentence:  \"the quick brown fox jumps over the brown dog\"\n",
        "# Token list: ['the', 'quick', 'brown', 'fox', 'jumps', 'over', 'dog']\n",
        "# Counts : {'the' : 2, 'quick': 1, 'brown': 2, 'fox': 1, 'jumps': 1, 'over': 1, 'dog': 1}\n",
        "# BoW vector: [2, 1, 2, 1, 1, 1, 1, 0, 0, 0, 0, 0]\n",
        "\n",
        "```\n",
        "\n",
        "7. Find the Number Occurring Odd Number of Times using Lambda expression and reduce function\n",
        "```\n",
        "Input :  [1, 2, 3, 2, 3, 1, 3]\n",
        "Output :  3\n",
        "```\n",
        "\n",
        "8. A multiplication function that accept variable length key value pair as arguments\n",
        "\n",
        "```\n",
        "multiply(a=1, b=2, c=3, d=4, e=5)\n",
        "\n",
        "Output: 120\n",
        "\n",
        "multiply(a=1, b=2, c=3)\n",
        "\n",
        "Output: 6\n",
        "```\n"
      ],
      "metadata": {
        "id": "QmKKgzu2NPvs"
      }
    },
    {
      "cell_type": "code",
      "source": [],
      "metadata": {
        "id": "9umbPWJFgY_J"
      },
      "execution_count": null,
      "outputs": []
    },
    {
      "cell_type": "code",
      "source": [],
      "metadata": {
        "id": "Khbvp7RKgZGe"
      },
      "execution_count": null,
      "outputs": []
    },
    {
      "cell_type": "code",
      "source": [],
      "metadata": {
        "id": "8emH1DB0gZOW"
      },
      "execution_count": null,
      "outputs": []
    },
    {
      "cell_type": "code",
      "source": [
        "def create_bag_of_words(sentences):\n",
        "    # Initialize an empty dictionary to store the bag of words\n",
        "    bag_of_words = {}\n",
        "\n",
        "    # Loop through each sentence in the list of sentences\n",
        "    for sentence in sentences:\n",
        "        # Split the sentence into individual words\n",
        "        words = sentence.split()\n",
        "\n",
        "        # Loop through each word in the sentence\n",
        "        for word in words:\n",
        "            # Check if the word is already in the bag_of_words dictionary\n",
        "            if word in bag_of_words:\n",
        "                # If the word is already in the dictionary, increment its count by 1\n",
        "                bag_of_words[word] += 1\n",
        "            else:\n",
        "                # If the word is not in the dictionary, add it with a count of 1\n",
        "                bag_of_words[word] = 1\n",
        "\n",
        "    return bag_of_words\n",
        "\n",
        "# List of sentences\n",
        "sentences = [\n",
        "    \"the quick brown fox jumps over the brown dog\",\n",
        "    \"the dog barks loudly\",\n",
        "    \"the cat sleeps peacefully\"\n",
        "]\n",
        "\n",
        "# Create bag of words representation\n",
        "bag_of_words = create_bag_of_words(sentences)\n",
        "\n",
        "# Define the vocabulary (all unique words in the bag of words)\n",
        "vocabulary = list(bag_of_words.keys())\n",
        "\n",
        "# Function to create bag of words vector for a given sentence\n",
        "def create_bow_vector(sentence, vocabulary):\n",
        "    # Initialize a vector with zeros for each word in the vocabulary\n",
        "    bow_vector = [0] * len(vocabulary)\n",
        "\n",
        "    # Split the sentence into individual words\n",
        "    words = sentence.split()\n",
        "\n",
        "    # Loop through each word in the sentence\n",
        "    for word in words:\n",
        "        # If the word is in the vocabulary, update its count in the vector\n",
        "        if word in vocabulary:\n",
        "            index = vocabulary.index(word)\n",
        "            bow_vector[index] += 1\n",
        "\n",
        "    return bow_vector\n",
        "\n",
        "# Calculate bag of words vectors for each sentence\n",
        "bow_vectors = []\n",
        "for sentence in sentences:\n",
        "    bow_vector = create_bow_vector(sentence, vocabulary)\n",
        "    bow_vectors.append(bow_vector)\n",
        "\n",
        "# Print the bag of words vectors for each sentence\n",
        "for i, sentence in enumerate(sentences):\n",
        "    print(f\"Sentence {i+1}: {bow_vectors[i]}\")"
      ],
      "metadata": {
        "colab": {
          "base_uri": "https://localhost:8080/"
        },
        "id": "Qwqhao8Efe7T",
        "outputId": "d1691449-0fa9-45c3-e2f7-b5b24146e03a"
      },
      "execution_count": null,
      "outputs": [
        {
          "output_type": "stream",
          "name": "stdout",
          "text": [
            "Sentence 1: [2, 1, 2, 1, 1, 1, 1, 0, 0, 0, 0, 0]\n",
            "Sentence 2: [1, 0, 0, 0, 0, 0, 1, 1, 1, 0, 0, 0]\n",
            "Sentence 3: [1, 0, 0, 0, 0, 0, 0, 0, 0, 1, 1, 1]\n"
          ]
        }
      ]
    },
    {
      "cell_type": "code",
      "source": [],
      "metadata": {
        "id": "Z6zw76H8f5Vs"
      },
      "execution_count": null,
      "outputs": []
    }
  ]
}